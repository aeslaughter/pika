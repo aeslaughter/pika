{
 "cells": [
  {
   "cell_type": "code",
   "execution_count": null,
   "metadata": {
    "collapsed": true
   },
   "outputs": [],
   "source": []
  },
  {
   "cell_type": "code",
   "execution_count": 377,
   "metadata": {
    "collapsed": false
   },
   "outputs": [],
   "source": [
    "import sympy\n",
    "from sympy.vector import CoordSysCartesian\n",
    "sympy.init_printing()"
   ]
  },
  {
   "cell_type": "code",
   "execution_count": 378,
   "metadata": {
    "collapsed": false
   },
   "outputs": [
    {
     "data": {
      "image/png": "[encoded data removed]",
      "text/latex": [
       "$$\\left [ \\frac{\\eta_{s} \\left(2 \\mu - 1\\right)}{2 \\mu - 2}\\right ]$$"
      ],
      "text/plain": [
       "⎡η_s⋅(2⋅μ - 1)⎤\n",
       "⎢─────────────⎥\n",
       "⎣  2⋅(μ - 1)  ⎦"
      ]
     },
     "execution_count": 378,
     "metadata": {},
     "output_type": "execute_result"
    }
   ],
   "source": [
    "eta, eta_s, mu = sympy.symbols('eta eta_s mu')\n",
    "sympy.solve(eta_s - 2*eta*(1-mu)/(1-2*mu), eta)"
   ]
  },
  {
   "cell_type": "code",
   "execution_count": 379,
   "metadata": {
    "collapsed": false
   },
   "outputs": [],
   "source": [
    "e = CoordSysCartesian('e')\n",
    "x,y,z = sympy.symbols('x y z')\n",
    "#rho, T = sympy.symbols('rho T')\n",
    "#rho_p_0, r_T, r_rho, mu_max = sympy.symbols('rho_p_0 r_T r_rho mu_max')\n",
    "rho = 200\n",
    "T = 263.15\n",
    "rho_p_0 = 300\n",
    "r_T = 15\n",
    "r_rho = 15\n",
    "mu_max = 0.49\n",
    "values = {x:0.5, y:0.5, z:0.5}"
   ]
  },
  {
   "cell_type": "code",
   "execution_count": 380,
   "metadata": {
    "collapsed": false
   },
   "outputs": [
    {
     "data": {
      "image/png": "[encoded data removed]",
      "text/latex": [
       "$$\\left ( 450.0, \\quad 0.00423157544775557\\right )$$"
      ],
      "text/plain": [
       "(450.0, 0.00423157544775557)"
      ]
     },
     "execution_count": 380,
     "metadata": {},
     "output_type": "execute_result"
    }
   ],
   "source": [
    "def rho_p(T):\n",
    "    return rho_p_0 - r_T * (T - 273.15)\n",
    "def mu_bar(rho, T):\n",
    "    return sympy.atan((rho-rho_p(T))/r_rho)\n",
    "def mu(rho, T):\n",
    "    return mu_max * (mu_bar(rho, T) - mu_bar(0, T)) / (mu_bar(1000, T) - mu_bar(0, T))\n",
    "rho_p(263.15),mu(rho, T)"
   ]
  },
  {
   "cell_type": "code",
   "execution_count": 387,
   "metadata": {
    "collapsed": false
   },
   "outputs": [
    {
     "data": {
      "image/png": "[encoded data removed]",
      "text/latex": [
       "$$\\left ( 4929405876.14235, \\quad 1224512701.53848, \\quad 10451689.9961406\\right )$$"
      ],
      "text/plain": [
       "(4929405876.14235, 1224512701.53848, 10451689.9961406)"
      ]
     },
     "execution_count": 387,
     "metadata": {},
     "output_type": "execute_result"
    }
   ],
   "source": [
    "def eta_s(rho, T):\n",
    "    return 0.05*rho**(-0.0371*(T-273.15)+4.4)*(10e-4*sympy.exp(0.018*rho)+1)\n",
    "def eta(rho, T):\n",
    "    return eta_s(rho, T) * (2*mu(rho,T)- 1) / (2 * (mu(rho,T) - 2))\n",
    "def lam(rho, T):\n",
    "    return -(2*eta(rho, T)*mu(rho,T))/(2*mu(rho,T)-1)\n",
    "eta_s(rho,T), eta(rho, T), lam(rho, T)"
   ]
  },
  {
   "cell_type": "code",
   "execution_count": 388,
   "metadata": {
    "collapsed": false
   },
   "outputs": [
    {
     "data": {
      "image/png": "[encoded data removed]",
      "text/latex": [
       "$$\\left ( \\left[\\begin{matrix}x\\\\y\\\\z\\end{matrix}\\right], \\quad \\left[\\begin{matrix}x y z\\\\2 x y z\\\\3 x y z\\end{matrix}\\right]\\right )$$"
      ],
      "text/plain": [
       "⎛⎡x⎤, ⎡ x⋅y⋅z ⎤⎞\n",
       "⎜⎢ ⎥  ⎢       ⎥⎟\n",
       "⎜⎢y⎥  ⎢2⋅x⋅y⋅z⎥⎟\n",
       "⎜⎢ ⎥  ⎢       ⎥⎟\n",
       "⎝⎣z⎦  ⎣3⋅x⋅y⋅z⎦⎠"
      ]
     },
     "execution_count": 388,
     "metadata": {},
     "output_type": "execute_result"
    }
   ],
   "source": [
    "X = (x*e.i + y*e.j + z*e.k).to_matrix(e)\n",
    "V = (x*y*z*e.i + 2*y*x*z*e.j + 3*y*x*z*e.k).to_matrix(e)\n",
    "X,V"
   ]
  },
  {
   "cell_type": "markdown",
   "metadata": {},
   "source": [
    "### def strain_rate(i,j):\n",
    "    return 1/2.*(sympy.diff(V[i], X[j]) + sympy.diff(V[j], X[i]))\n",
    "for i in range(3):\n",
    "    for j in range(3):\n",
    "        print 'strain({},{}) = {}'.format(i, j, strain_rate(i,j).subs(values))"
   ]
  },
  {
   "cell_type": "code",
   "execution_count": 390,
   "metadata": {
    "collapsed": true
   },
   "outputs": [],
   "source": [
    "def stress(i,j):\n",
    "    sigma = 2*eta(rho, T)*strain_rate(i,j)\n",
    "    if i == j:\n",
    "        sigma += lam(rho, T)*(strain_rate(0,0) + strain_rate(1,1) + strain_rate(2,2))\n",
    "    return sigma"
   ]
  },
  {
   "cell_type": "code",
   "execution_count": 393,
   "metadata": {
    "collapsed": false
   },
   "outputs": [
    {
     "name": "stdout",
     "output_type": "stream",
     "text": [
      "stress(0,0) = 6.27933885763452E+8\n",
      "stress(0,1) = 9.18384526153861E+8\n",
      "stress(0,2) = 1.22451270153848E+9\n",
      "stress(1,0) = 9.18384526153861E+8\n",
      "stress(1,1) = 1.24019023653269E+9\n",
      "stress(1,2) = 1.53064087692310E+9\n",
      "stress(2,0) = 1.22451270153848E+9\n",
      "stress(2,1) = 1.53064087692310E+9\n",
      "stress(2,2) = 1.85244658730193E+9\n"
     ]
    }
   ],
   "source": [
    "for i in range(3):\n",
    "    for j in range(3):\n",
    "        print 'stress({},{}) = {:E}'.format(i, j, stress(i,j).subs(values))\n"
   ]
  },
  {
   "cell_type": "code",
   "execution_count": null,
   "metadata": {
    "collapsed": true
   },
   "outputs": [],
   "source": []
  },
  {
   "cell_type": "code",
   "execution_count": null,
   "metadata": {
    "collapsed": true
   },
   "outputs": [],
   "source": []
  },
  {
   "cell_type": "code",
   "execution_count": null,
   "metadata": {
    "collapsed": true
   },
   "outputs": [],
   "source": []
  },
  {
   "cell_type": "code",
   "execution_count": null,
   "metadata": {
    "collapsed": true
   },
   "outputs": [],
   "source": []
  }
 ],
 "metadata": {
  "kernelspec": {
   "display_name": "Python 2",
   "language": "python",
   "name": "python2"
  },
  "language_info": {
   "codemirror_mode": {
    "name": "ipython",
    "version": 2
   },
   "file_extension": ".py",
   "mimetype": "text/x-python",
   "name": "python",
   "nbconvert_exporter": "python",
   "pygments_lexer": "ipython2",
   "version": "2.7.12"
  }
 },
 "nbformat": 4,
 "nbformat_minor": 2
}
