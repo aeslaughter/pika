{
 "cells": [
  {
   "cell_type": "code",
   "execution_count": 15,
   "metadata": {
    "collapsed": false
   },
   "outputs": [],
   "source": [
    "import sympy\n",
    "sympy.init_printing()\n",
    "#u_dot = sympy.symbols('\\dot{u}')\n",
    "#u_dot"
   ]
  },
  {
   "cell_type": "code",
   "execution_count": 84,
   "metadata": {
    "collapsed": false
   },
   "outputs": [
    {
     "name": "stdout",
     "output_type": "stream",
     "text": [
      "u_dot <class 'sympy.core.symbol.Symbol'> phi <type 'str'>\n"
     ]
    },
    {
     "data": {
      "image/png": "[encoded data removed]",
      "text/latex": [
       "$$\\frac{d}{d x} \\operatorname{u_{dot}}{\\left (x \\right )}$$"
      ],
      "text/plain": [
       "d           \n",
       "──(u_dot(x))\n",
       "dx          "
      ]
     },
     "execution_count": 84,
     "metadata": {},
     "output_type": "execute_result"
    }
   ],
   "source": [
    "u_dot, x, phi = sympy.symbols('\\dot{u} x phi')\n",
    "\n",
    "class TrialFunction(sympy.Function):      \n",
    "    @classmethod\n",
    "    def eval(cls, arg, shape='phi'):\n",
    "        print arg, type(arg), shape, type(shape)\n",
    "        arg = sympy.sympify(arg)\n",
    "        cls.shape = sympy.sympify(shape)\n",
    "        return arg\n",
    "    \n",
    "    def fdiff(self, argindex=1):\n",
    "        print 'HELLO'\n",
    "        return self.args[0]\n",
    "        \n",
    "        \n",
    "u_dot = TrialFunction('u_dot')(x)\n",
    "sympy.diff(u_dot, x)\n",
    "        "
   ]
  },
  {
   "cell_type": "code",
   "execution_count": null,
   "metadata": {
    "collapsed": true
   },
   "outputs": [],
   "source": []
  },
  {
   "cell_type": "code",
   "execution_count": null,
   "metadata": {
    "collapsed": true
   },
   "outputs": [],
   "source": []
  },
  {
   "cell_type": "code",
   "execution_count": null,
   "metadata": {
    "collapsed": true
   },
   "outputs": [],
   "source": []
  },
  {
   "cell_type": "code",
   "execution_count": null,
   "metadata": {
    "collapsed": true
   },
   "outputs": [],
   "source": []
  }
 ],
 "metadata": {
  "kernelspec": {
   "display_name": "Python 2",
   "language": "python",
   "name": "python2"
  },
  "language_info": {
   "codemirror_mode": {
    "name": "ipython",
    "version": 2
   },
   "file_extension": ".py",
   "mimetype": "text/x-python",
   "name": "python",
   "nbconvert_exporter": "python",
   "pygments_lexer": "ipython2",
   "version": "2.7.13"
  }
 },
 "nbformat": 4,
 "nbformat_minor": 2
}
